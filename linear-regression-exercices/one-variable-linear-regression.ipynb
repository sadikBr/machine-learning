{
 "cells": [
  {
   "cell_type": "code",
   "execution_count": 91,
   "id": "a3aff4fc",
   "metadata": {},
   "outputs": [],
   "source": [
    "import numpy as np\n",
    "import pandas as pd\n",
    "import matplotlib.pyplot as plt"
   ]
  },
  {
   "cell_type": "code",
   "execution_count": 92,
   "id": "754b974a",
   "metadata": {},
   "outputs": [],
   "source": [
    "#loading the data\n",
    "data = pd.read_csv('ex1data1.txt', names=['Population', 'Profit'])\n",
    "\n",
    "#splitting the data\n",
    "x_data = data['Population'].values\n",
    "y_data = data['Profit'].values.reshape(len(x_data), 1)"
   ]
  },
  {
   "cell_type": "code",
   "execution_count": 93,
   "id": "84a401a7",
   "metadata": {},
   "outputs": [],
   "source": [
    "#feature scalling the data\n",
    "def feature_normalize(data):\n",
    "    mean = np.mean(data)\n",
    "    std = np.mean(data)\n",
    "    new_data = (data - mean) / std\n",
    "    \n",
    "    return new_data, mean, std\n",
    "\n",
    "x_data, mean, std = feature_normalize(x_data)"
   ]
  },
  {
   "cell_type": "code",
   "execution_count": 94,
   "id": "aa2b2a0a",
   "metadata": {},
   "outputs": [
    {
     "data": {
      "text/plain": [
       "<matplotlib.collections.PathCollection at 0x2426411c1f0>"
      ]
     },
     "execution_count": 94,
     "metadata": {},
     "output_type": "execute_result"
    },
    {
     "data": {
      "image/png": "[encoded data removed]",
      "text/plain": [
       "<Figure size 432x288 with 1 Axes>"
      ]
     },
     "metadata": {
      "needs_background": "light"
     },
     "output_type": "display_data"
    }
   ],
   "source": [
    "#ploting the data\n",
    "plt.title('Scatter of the data distribution')\n",
    "plt.xlabel('Population in 10,000s')\n",
    "plt.ylabel('Profit in 10,000$')\n",
    "plt.scatter(x_data, y_data, color='red', marker='+')"
   ]
  },
  {
   "cell_type": "code",
   "execution_count": 95,
   "id": "4c7c03bf",
   "metadata": {},
   "outputs": [],
   "source": [
    "#fomating the x_data to be a (m, 2) shaped matrix\n",
    "ones = np.ones((len(x_data), 2))\n",
    "ones[:, 1] = x_data\n",
    "x_data = ones"
   ]
  },
  {
   "cell_type": "code",
   "execution_count": 96,
   "id": "e82fa92f",
   "metadata": {},
   "outputs": [],
   "source": [
    "#creating some utility functions\n",
    "def cost_function(x_data, y_data, theta):\n",
    "    h = np.dot(x_data, theta)\n",
    "    err_sq = (h - y_data) ** 2\n",
    "    err_sum = err_sq.sum()\n",
    "    cost = (err_sum / (2 * len(x_data)))\n",
    "    \n",
    "    return cost\n",
    "\n",
    "def gradient_descent(x_data, y_data, theta, learning_rate):\n",
    "    h = np.dot(x_data, theta)\n",
    "    err = h - y_data\n",
    "    dtheta = (1 / len(x_data)) * np.dot(x_data.T, err)\n",
    "    theta = theta - learning_rate * dtheta\n",
    "    \n",
    "    return theta"
   ]
  },
  {
   "cell_type": "code",
   "execution_count": 97,
   "id": "c325e858",
   "metadata": {},
   "outputs": [],
   "source": [
    "#creating the training function\n",
    "def train_model(x_data, y_data, theta, learning_rate, nbr_iter):\n",
    "    cost = []\n",
    "    for i in range(nbr_iter):\n",
    "        cost.append(cost_function(x_data, y_data, theta))\n",
    "        theta = gradient_descent(x_data, y_data, theta, learning_rate)\n",
    "        \n",
    "    return theta, cost"
   ]
  },
  {
   "cell_type": "code",
   "execution_count": 143,
   "id": "84daca43",
   "metadata": {},
   "outputs": [
    {
     "data": {
      "text/plain": [
       "([5.83913497031969, 9.558630321245195], 4.480445742769536)"
      ]
     },
     "execution_count": 143,
     "metadata": {},
     "output_type": "execute_result"
    }
   ],
   "source": [
    "#running the training and finding the optimal solution\n",
    "nbr_features = x_data.shape[1]\n",
    "initial_theta = np.zeros([nbr_features, 1])\n",
    "learning_rate = 0.01\n",
    "nbr_iter = 1800\n",
    "\n",
    "theta, cost = train_model(x_data, y_data, initial_theta, learning_rate, nbr_iter)\n",
    "[theta[0][0], theta[1][0]], cost[-1]"
   ]
  },
  {
   "cell_type": "code",
   "execution_count": 144,
   "id": "715a41c5",
   "metadata": {},
   "outputs": [
    {
     "data": {
      "text/plain": [
       "[<matplotlib.lines.Line2D at 0x2426254aca0>]"
      ]
     },
     "execution_count": 144,
     "metadata": {},
     "output_type": "execute_result"
    },
    {
     "data": {
      "image/png": "[encoded data removed]",
      "text/plain": [
       "<Figure size 432x288 with 1 Axes>"
      ]
     },
     "metadata": {
      "needs_background": "light"
     },
     "output_type": "display_data"
    }
   ],
   "source": [
    "#ploting the model\n",
    "plt.scatter(x_data[:, 1], y_data, color='red', marker='+')\n",
    "plt.plot(x_data[:,1], np.dot(x_data, theta))"
   ]
  },
  {
   "cell_type": "code",
   "execution_count": 100,
   "id": "ac24e8ca",
   "metadata": {},
   "outputs": [],
   "source": [
    "#creating the prediction function\n",
    "def predict_profit(population):\n",
    "    x_data = np.array([population])\n",
    "    x_data = (x_data - mean) / std\n",
    "    x_data = np.append(1, x_data)\n",
    "    return np.dot(x_data, theta)"
   ]
  },
  {
   "cell_type": "code",
   "execution_count": 145,
   "id": "6c4b73b0",
   "metadata": {},
   "outputs": [
    {
     "data": {
      "text/plain": [
       "(0.3805078506674491, 4.480511052260403, 37.280536665004036)"
      ]
     },
     "execution_count": 145,
     "metadata": {},
     "output_type": "execute_result"
    }
   ],
   "source": [
    "#running some predictions to make sure the model is well trained (we can use some testing data here)\n",
    "predict_profit(3.5)[0], predict_profit(7)[0], predict_profit(35)[0]"
   ]
  }
 ],
 "metadata": {
  "kernelspec": {
   "display_name": "Python 3",
   "language": "python",
   "name": "python3"
  },
  "language_info": {
   "codemirror_mode": {
    "name": "ipython",
    "version": 3
   },
   "file_extension": ".py",
   "mimetype": "text/x-python",
   "name": "python",
   "nbconvert_exporter": "python",
   "pygments_lexer": "ipython3",
   "version": "3.8.8"
  }
 },
 "nbformat": 4,
 "nbformat_minor": 5
}
