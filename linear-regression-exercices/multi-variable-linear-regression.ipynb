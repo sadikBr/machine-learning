{
 "cells": [
  {
   "cell_type": "code",
   "execution_count": 302,
   "id": "634569cd",
   "metadata": {},
   "outputs": [],
   "source": [
    "import numpy as np\n",
    "import pandas as pd\n",
    "import matplotlib.pyplot as plt"
   ]
  },
  {
   "cell_type": "code",
   "execution_count": 303,
   "id": "3216de81",
   "metadata": {},
   "outputs": [],
   "source": [
    "#loading the data\n",
    "data = pd.read_csv('ex1data2.txt', names=['Size', 'Bedrooms', 'Price'])\n",
    "\n",
    "#splitting the data\n",
    "x_data = np.array(data.drop(['Price'], axis=1).values)\n",
    "y_data = np.array(data['Price'].values).reshape(len(x_data), 1)"
   ]
  },
  {
   "cell_type": "code",
   "execution_count": 304,
   "id": "551a0cc0",
   "metadata": {},
   "outputs": [],
   "source": [
    "#feature scalling the data\n",
    "def feature_normalize(data):\n",
    "    mean = np.mean(data)\n",
    "    std = np.std(data)\n",
    "    new_data = (data - mean) / std\n",
    "    \n",
    "    return new_data, mean, std\n",
    "\n",
    "x_data, mean, std = feature_normalize(x_data)"
   ]
  },
  {
   "cell_type": "code",
   "execution_count": 305,
   "id": "307c07a5",
   "metadata": {},
   "outputs": [],
   "source": [
    "#formating the x_data to be a (m, 3) shaped matrix\n",
    "x_data = np.append(np.ones((len(x_data), 1)), x_data, axis=1)"
   ]
  },
  {
   "cell_type": "code",
   "execution_count": 306,
   "id": "53fa884b",
   "metadata": {},
   "outputs": [],
   "source": [
    "#creating some utility functions\n",
    "def cost_function(x_data, y_data, theta):\n",
    "    h = np.dot(x_data, theta)\n",
    "    err_sq = (h - y_data) ** 2\n",
    "    err_sum = np.sum(err_sq)\n",
    "    cost = (err_sum / (2 * len(x_data)))\n",
    "    \n",
    "    return cost\n",
    "\n",
    "def gradient_descent(x_data, y_data, theta, learning_rate):\n",
    "    h = np.dot(x_data, theta)\n",
    "    err = h - y_data\n",
    "    dtheta = (1 / len(x_data)) * np.dot(x_data.T, err)\n",
    "    theta = theta - learning_rate * dtheta\n",
    "    \n",
    "    return theta"
   ]
  },
  {
   "cell_type": "code",
   "execution_count": 307,
   "id": "5cba9d03",
   "metadata": {},
   "outputs": [],
   "source": [
    "#creating the training function\n",
    "def train_model(x_data, y_data, theta, learning_rate, nbr_iter):\n",
    "    cost = []\n",
    "    for i in range(nbr_iter):\n",
    "        cost.append(cost_function(x_data, y_data, theta))\n",
    "        theta = gradient_descent(x_data, y_data, theta, learning_rate)\n",
    "        \n",
    "    return theta, cost"
   ]
  },
  {
   "cell_type": "code",
   "execution_count": 308,
   "id": "173e3ea7",
   "metadata": {},
   "outputs": [
    {
     "data": {
      "text/plain": [
       "([116179.3860250721, 153821.9409830553, -102809.6263270349],\n",
       " 2057828552.0743992)"
      ]
     },
     "execution_count": 308,
     "metadata": {},
     "output_type": "execute_result"
    }
   ],
   "source": [
    "#running the training and finding the optimal solution\n",
    "initial_theta = np.zeros([3, 1])\n",
    "learning_rate = 0.3\n",
    "nbr_iter = 1500\n",
    "\n",
    "theta, cost = train_model(x_data, y_data, initial_theta, learning_rate, nbr_iter)\n",
    "[theta[0][0], theta[1][0], theta[2][0]], cost[-1]"
   ]
  },
  {
   "cell_type": "code",
   "execution_count": 309,
   "id": "a7757638",
   "metadata": {},
   "outputs": [],
   "source": [
    "#creating the prediction function\n",
    "def predict_price(size, bedrooms):\n",
    "    data = np.array([size, bedrooms])\n",
    "    data = (data - mean) / std\n",
    "    data = np.append(1, data)\n",
    "    \n",
    "    return np.dot(data, theta)\n"
   ]
  },
  {
   "cell_type": "code",
   "execution_count": 313,
   "id": "3b4a37ba",
   "metadata": {},
   "outputs": [
    {
     "data": {
      "text/plain": [
       "(293237.89956883236, 353794.9203984489, 676585.8121100022)"
      ]
     },
     "execution_count": 313,
     "metadata": {},
     "output_type": "execute_result"
    }
   ],
   "source": [
    "#running some predictions to make sure the model is well trained (we can use some testing data here)\n",
    "predict_price(1650, 3)[0], predict_price(2100, 3)[0], predict_price(4500, 5)[0]"
   ]
  }
 ],
 "metadata": {
  "kernelspec": {
   "display_name": "Python 3",
   "language": "python",
   "name": "python3"
  },
  "language_info": {
   "codemirror_mode": {
    "name": "ipython",
    "version": 3
   },
   "file_extension": ".py",
   "mimetype": "text/x-python",
   "name": "python",
   "nbconvert_exporter": "python",
   "pygments_lexer": "ipython3",
   "version": "3.8.8"
  }
 },
 "nbformat": 4,
 "nbformat_minor": 5
}
