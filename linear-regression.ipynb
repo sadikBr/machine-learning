{
 "cells": [
  {
   "cell_type": "code",
   "execution_count": 12,
   "id": "c4f0bfeb",
   "metadata": {},
   "outputs": [],
   "source": [
    "import numpy as np\n",
    "import pandas as pd\n",
    "import matplotlib.pyplot as plt\n",
    "\n",
    "from sklearn.datasets import load_boston\n",
    "\n",
    "x_data = load_boston().data\n",
    "y_data = load_boston().target"
   ]
  },
  {
   "cell_type": "code",
   "execution_count": 13,
   "id": "b599dd2b",
   "metadata": {},
   "outputs": [],
   "source": [
    "#data normalization\n",
    "x_data = (x_data - x_data.mean()) / (x_data.std())"
   ]
  },
  {
   "cell_type": "code",
   "execution_count": 14,
   "id": "f348c00b",
   "metadata": {},
   "outputs": [],
   "source": [
    "#spliting the data\n",
    "training_per = int(len(x_data) * 0.8)\n",
    "\n",
    "x_training_data = x_data[:training_per]\n",
    "x_testing_data = x_data[training_per:]\n",
    "\n",
    "y_training_data = y_data[:training_per].reshape(training_per, 1)\n",
    "y_testing_data = y_data[training_per:].reshape(len(x_data) - training_per, 1)"
   ]
  },
  {
   "cell_type": "code",
   "execution_count": 15,
   "id": "0c9e6a63",
   "metadata": {},
   "outputs": [],
   "source": [
    "formated_x_training_data = []\n",
    "formated_x_testing_data = []\n",
    "\n",
    "for i in range(len(x_training_data)):\n",
    "  newTrain = [1]\n",
    "  for j in range(len(x_training_data[i])):\n",
    "    newTrain.append(x_training_data[i][j])\n",
    "  formated_x_training_data.append(newTrain)\n",
    "\n",
    "for i in range(len(x_testing_data)):\n",
    "  newTest = [1]\n",
    "  for j in range(len(x_testing_data[i])):\n",
    "    newTest.append(x_testing_data[i][j])\n",
    "  formated_x_testing_data.append(newTest)\n",
    "\n",
    "x_training_data = np.array(formated_x_training_data)\n",
    "x_testing_data = np.array(formated_x_testing_data)"
   ]
  },
  {
   "cell_type": "code",
   "execution_count": 16,
   "id": "ffc1e0e7",
   "metadata": {},
   "outputs": [],
   "source": [
    "def cost_function(x_data, y_data, theta):\n",
    "  m = len(x_data)\n",
    "  h = np.dot(x_data, theta)\n",
    "  h = (h - y_data)**2\n",
    "  return (1/(2*m)) * h.sum()"
   ]
  },
  {
   "cell_type": "code",
   "execution_count": 17,
   "id": "6c2f2cc5",
   "metadata": {},
   "outputs": [],
   "source": [
    "def gradient_descent(x_data, y_data, theta, alpha):\n",
    "  m = len(x_data)\n",
    "  dtheta = (1 / m) * np.dot((np.dot(x_data, theta) - y_data).T, x_data)\n",
    "  theta = theta - alpha * dtheta.reshape(14, 1)\n",
    "  return theta"
   ]
  },
  {
   "cell_type": "code",
   "execution_count": 18,
   "id": "89b84b63",
   "metadata": {},
   "outputs": [],
   "source": [
    "def main(x_data, y_data, alpha, nbr_iter):\n",
    "  theta = np.random.randn(14, 1)\n",
    "  cost = []\n",
    "  for i in range(nbr_iter):\n",
    "    cost.append(cost_function(x_data, y_data, theta))\n",
    "    theta = gradient_descent(x_data, y_data, theta, alpha)\n",
    "\n",
    "  return theta, cost"
   ]
  },
  {
   "cell_type": "code",
   "execution_count": 19,
   "id": "899ac596",
   "metadata": {},
   "outputs": [],
   "source": [
    "theta, cost_list = main(x_training_data, y_training_data, alpha=0.05, nbr_iter=40)"
   ]
  },
  {
   "cell_type": "code",
   "execution_count": 20,
   "id": "dae6de10",
   "metadata": {},
   "outputs": [
    {
     "data": {
      "text/plain": [
       "[<matplotlib.lines.Line2D at 0x1a4590eb040>]"
      ]
     },
     "execution_count": 20,
     "metadata": {},
     "output_type": "execute_result"
    },
    {
     "data": {
      "image/png": "[encoded data removed]",
      "text/plain": [
       "<Figure size 432x288 with 1 Axes>"
      ]
     },
     "metadata": {
      "needs_background": "light"
     },
     "output_type": "display_data"
    }
   ],
   "source": [
    "x = np.arange(40)\n",
    "plt.plot(x, cost_list)"
   ]
  },
  {
   "cell_type": "code",
   "execution_count": 21,
   "id": "fe438f42",
   "metadata": {},
   "outputs": [
    {
     "data": {
      "text/plain": [
       "array([[19.38044356],\n",
       "       [20.8430086 ],\n",
       "       [21.4395209 ],\n",
       "       [20.25084168],\n",
       "       [19.46198877],\n",
       "       [13.77422607],\n",
       "       [ 5.72066315],\n",
       "       [ 7.82043346],\n",
       "       [ 7.25468953],\n",
       "       [14.71951784],\n",
       "       [ 8.97916214],\n",
       "       [ 7.27336817],\n",
       "       [ 7.41132895],\n",
       "       [11.40937588],\n",
       "       [ 5.55552792],\n",
       "       [ 8.75756779],\n",
       "       [19.66475285],\n",
       "       [19.88211195],\n",
       "       [18.72937203],\n",
       "       [ 6.8501644 ],\n",
       "       [ 7.17044489],\n",
       "       [ 6.66695855],\n",
       "       [ 8.13595174],\n",
       "       [ 6.97733521],\n",
       "       [10.85456102],\n",
       "       [ 9.0138713 ],\n",
       "       [10.21497479],\n",
       "       [ 9.92798547],\n",
       "       [11.11896537],\n",
       "       [10.96470549],\n",
       "       [10.68195906],\n",
       "       [11.01307311],\n",
       "       [ 7.64117608],\n",
       "       [ 6.64733636],\n",
       "       [ 9.21364541],\n",
       "       [22.90465872],\n",
       "       [22.39232455],\n",
       "       [22.43769912],\n",
       "       [22.94474051],\n",
       "       [22.43145662],\n",
       "       [16.32160615],\n",
       "       [ 8.26465518],\n",
       "       [19.76559253],\n",
       "       [22.59277247],\n",
       "       [22.89517175],\n",
       "       [19.11230269],\n",
       "       [ 6.73136945],\n",
       "       [21.28976157],\n",
       "       [22.63247558],\n",
       "       [22.05829135],\n",
       "       [ 6.87773282],\n",
       "       [ 8.94706789],\n",
       "       [ 7.25040182],\n",
       "       [ 7.01833527],\n",
       "       [18.05041717],\n",
       "       [23.22347297],\n",
       "       [17.32693469],\n",
       "       [23.01707404],\n",
       "       [23.25766004],\n",
       "       [23.10029831],\n",
       "       [23.50681533],\n",
       "       [21.3021331 ],\n",
       "       [ 7.82180074],\n",
       "       [20.33331978],\n",
       "       [21.99546914],\n",
       "       [23.49062325],\n",
       "       [23.26500787],\n",
       "       [23.15721183],\n",
       "       [23.3067596 ],\n",
       "       [22.66555466],\n",
       "       [21.15752641],\n",
       "       [19.02637172],\n",
       "       [23.04889448],\n",
       "       [20.726946  ],\n",
       "       [22.19962722],\n",
       "       [22.45552873],\n",
       "       [23.60143424],\n",
       "       [23.33450535],\n",
       "       [23.40078148],\n",
       "       [23.88419363],\n",
       "       [22.91695696],\n",
       "       [23.502921  ],\n",
       "       [23.13370515],\n",
       "       [23.43930249],\n",
       "       [23.35673821],\n",
       "       [21.08037701],\n",
       "       [19.94381823],\n",
       "       [23.05547719],\n",
       "       [23.63669665],\n",
       "       [24.58935531],\n",
       "       [24.73572341],\n",
       "       [24.73503119],\n",
       "       [24.15455244],\n",
       "       [24.29306299],\n",
       "       [24.39879675],\n",
       "       [24.19825119],\n",
       "       [24.15618552],\n",
       "       [24.34288815],\n",
       "       [24.44401276],\n",
       "       [24.27375189],\n",
       "       [24.14142731],\n",
       "       [24.39665259]])"
      ]
     },
     "execution_count": 21,
     "metadata": {},
     "output_type": "execute_result"
    }
   ],
   "source": [
    "#prediction\n",
    "y_predict = np.dot(x_testing_data, theta)\n",
    "\n",
    "y_predict"
   ]
  }
 ],
 "metadata": {
  "kernelspec": {
   "display_name": "Python 3",
   "language": "python",
   "name": "python3"
  },
  "language_info": {
   "codemirror_mode": {
    "name": "ipython",
    "version": 3
   },
   "file_extension": ".py",
   "mimetype": "text/x-python",
   "name": "python",
   "nbconvert_exporter": "python",
   "pygments_lexer": "ipython3",
   "version": "3.8.8"
  }
 },
 "nbformat": 4,
 "nbformat_minor": 5
}
