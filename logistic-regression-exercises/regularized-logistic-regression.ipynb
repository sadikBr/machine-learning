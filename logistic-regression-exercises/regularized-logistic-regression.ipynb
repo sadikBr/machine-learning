{
 "cells": [
  {
   "cell_type": "code",
   "execution_count": 76,
   "id": "d4458674",
   "metadata": {},
   "outputs": [],
   "source": [
    "import numpy as np\n",
    "import pandas as pd\n",
    "import matplotlib.pyplot as plt"
   ]
  },
  {
   "cell_type": "code",
   "execution_count": 77,
   "id": "e2718687",
   "metadata": {},
   "outputs": [],
   "source": [
    "#loading the data\n",
    "data = pd.read_csv('ex2data2.txt', names=['First Test', 'Second Test', 'Acceptance'])\n",
    "\n",
    "#splitting the data (splitting the features from the target)\n",
    "x_data = np.array(data.drop(['Acceptance'], axis=1).values)\n",
    "y_data = np.array(data['Acceptance'].values).reshape(len(x_data), 1)\n",
    "\n",
    "#formating the data to make it able to plot\n",
    "class_zero = []\n",
    "class_one = []\n",
    "\n",
    "for index, y in enumerate(y_data):\n",
    "    if y[0] == 0:\n",
    "        class_zero.append(x_data[index])\n",
    "    else: class_one.append(x_data[index])\n",
    "        \n",
    "class_one = np.array(class_one)\n",
    "class_zero = np.array(class_zero)"
   ]
  },
  {
   "cell_type": "code",
   "execution_count": 78,
   "id": "81e7980a",
   "metadata": {},
   "outputs": [
    {
     "data": {
      "text/plain": [
       "<matplotlib.legend.Legend at 0x2d8eaa49f70>"
      ]
     },
     "execution_count": 78,
     "metadata": {},
     "output_type": "execute_result"
    },
    {
     "data": {
      "image/png": "[encoded data removed]",
      "text/plain": [
       "<Figure size 432x288 with 1 Axes>"
      ]
     },
     "metadata": {
      "needs_background": "light"
     },
     "output_type": "display_data"
    }
   ],
   "source": [
    "#ploting the data\n",
    "plt.title('Scatter plot of the two classes in the data')\n",
    "plt.xlabel('First Test')\n",
    "plt.ylabel('Second Test')\n",
    "plt.scatter(class_one[:,0], class_one[:, 1], color='red', marker='+', label='y = 1')\n",
    "plt.scatter(class_zero[:,0], class_zero[:, 1], color='green', marker='*', label='y = 0')\n",
    "plt.legend()"
   ]
  },
  {
   "cell_type": "code",
   "execution_count": 79,
   "id": "778f131a",
   "metadata": {},
   "outputs": [],
   "source": [
    "#feature mapping\n",
    "def map_feature(x_data, power):\n",
    "    features = np.ones(len(x_data)).reshape(len(x_data), 1)\n",
    "    for n in range(1, power + 1):\n",
    "        for i in range(0, n + 1):\n",
    "            x1 = x_data[:, 0]\n",
    "            x2 = x_data[:, 1]\n",
    "            term = np.array((x1 ** (n - i)) * (x2 ** (i))).reshape(len(x_data), 1)\n",
    "            features = np.hstack((features, term))\n",
    "            \n",
    "    return features"
   ]
  },
  {
   "cell_type": "code",
   "execution_count": 80,
   "id": "e23aa4bd",
   "metadata": {},
   "outputs": [],
   "source": [
    "#generating the new x_data with all the new features\n",
    "x_data = map_feature(x_data, 6)"
   ]
  },
  {
   "cell_type": "code",
   "execution_count": 81,
   "id": "2bcfd812",
   "metadata": {},
   "outputs": [],
   "source": [
    "#creating some utility functions\n",
    "def sigmoid(z):\n",
    "    return (1 / (1 + np.exp(-z)))\n",
    "\n",
    "def h(x_data, theta):\n",
    "    z = np.dot(x_data, theta)\n",
    "    return sigmoid(z)\n",
    "\n",
    "def cost_function(x_data, y_data, theta, Lambda):\n",
    "    first_part = -np.dot(y_data.T, np.log(h(x_data, theta)))\n",
    "    second_part = -np.dot((1 - y_data).T, np.log(1 - h(x_data, theta)))\n",
    "    third_part = (Lambda / (2*len(x_data))) * (np.vstack((np.array([0]), theta[1:])) ** 2).sum()\n",
    "    total_cost = first_part + second_part + third_part\n",
    "    \n",
    "    return total_cost.sum() / len(x_data)\n",
    "\n",
    "def gradient_descent(x_data, y_data, theta, learning_rate, Lambda):\n",
    "    err = h(x_data, theta) - y_data\n",
    "    dtheta = np.dot(x_data.T, err) + Lambda * (np.vstack((np.array([0]), theta[1:])))\n",
    "    theta = theta - learning_rate * dtheta\n",
    "    \n",
    "    return theta"
   ]
  },
  {
   "cell_type": "code",
   "execution_count": 82,
   "id": "70145005",
   "metadata": {},
   "outputs": [],
   "source": [
    "#creating the training function\n",
    "def train_model(x_data, y_data, theta, learning_rate, nbr_iter, Lambda):\n",
    "    cost = []\n",
    "    for i in range(nbr_iter):\n",
    "        cost.append(cost_function(x_data, y_data, theta, Lambda))\n",
    "        theta = gradient_descent(x_data, y_data, theta, learning_rate, Lambda)\n",
    "        \n",
    "    return theta, cost"
   ]
  },
  {
   "cell_type": "code",
   "execution_count": 83,
   "id": "dbf3a742",
   "metadata": {},
   "outputs": [
    {
     "data": {
      "text/plain": [
       "array([[ 1.26236311],\n",
       "       [ 0.61970146],\n",
       "       [ 1.17530142],\n",
       "       [-2.0047996 ],\n",
       "       [-0.90289293],\n",
       "       [-1.40322385],\n",
       "       [ 0.12245163],\n",
       "       [-0.36401878],\n",
       "       [-0.35872169],\n",
       "       [-0.1747645 ],\n",
       "       [-1.45414876],\n",
       "       [-0.05733912],\n",
       "       [-0.61195752],\n",
       "       [-0.27039605],\n",
       "       [-1.18841242],\n",
       "       [-0.24118286],\n",
       "       [-0.20744524],\n",
       "       [-0.0501789 ],\n",
       "       [-0.27489106],\n",
       "       [-0.29298384],\n",
       "       [-0.46589773],\n",
       "       [-1.04199539],\n",
       "       [ 0.02243842],\n",
       "       [-0.29197535],\n",
       "       [ 0.0118124 ],\n",
       "       [-0.32547466],\n",
       "       [-0.14109593],\n",
       "       [-0.9340739 ]])"
      ]
     },
     "execution_count": 83,
     "metadata": {},
     "output_type": "execute_result"
    }
   ],
   "source": [
    "#training the model\n",
    "initial_theta = np.zeros([28, 1])\n",
    "Lambda = 1\n",
    "learning_rate = 0.002\n",
    "nbr_iter = 1500\n",
    "\n",
    "theta, cost = train_model(x_data, y_data, initial_theta, learning_rate, nbr_iter, Lambda)\n",
    "\n",
    "theta"
   ]
  },
  {
   "cell_type": "code",
   "execution_count": 84,
   "id": "826f1d15",
   "metadata": {},
   "outputs": [
    {
     "data": {
      "text/plain": [
       "[<matplotlib.lines.Line2D at 0x2d8eaae2850>]"
      ]
     },
     "execution_count": 84,
     "metadata": {},
     "output_type": "execute_result"
    },
    {
     "data": {
      "image/png": "[encoded data removed]",
      "text/plain": [
       "<Figure size 432x288 with 1 Axes>"
      ]
     },
     "metadata": {
      "needs_background": "light"
     },
     "output_type": "display_data"
    }
   ],
   "source": [
    "#plot the cost function\n",
    "x = np.arange(nbr_iter)\n",
    "plt.plot(x, cost)"
   ]
  },
  {
   "cell_type": "code",
   "execution_count": 85,
   "id": "c73b4ce0",
   "metadata": {},
   "outputs": [
    {
     "data": {
      "text/plain": [
       "<matplotlib.legend.Legend at 0x2d8eab54160>"
      ]
     },
     "execution_count": 85,
     "metadata": {},
     "output_type": "execute_result"
    },
    {
     "data": {
      "image/png": "[encoded data removed]",
      "text/plain": [
       "<Figure size 432x288 with 1 Axes>"
      ]
     },
     "metadata": {
      "needs_background": "light"
     },
     "output_type": "display_data"
    }
   ],
   "source": [
    "#ploting the model\n",
    "def mapFeaturePlot(x1,x2,degree):\n",
    "    \"\"\"\n",
    "    take in numpy array of x1 and x2, return all polynomial terms up to the given degree\n",
    "    \"\"\"\n",
    "    out = np.ones(1)\n",
    "    for i in range(1,degree+1):\n",
    "        for j in range(i+1):\n",
    "            terms= (x1**(i-j) * x2**j)\n",
    "            out= np.hstack((out,terms))\n",
    "    return out\n",
    "\n",
    "#ploting the data\n",
    "plt.scatter(class_one[:,0], class_one[:, 1], color='red', marker='+', label='y=1')\n",
    "plt.scatter(class_zero[:,0], class_zero[:, 1], color='green', marker='*', label='y=0')\n",
    "\n",
    "#ploting the decision boundry\n",
    "u_vals = np.linspace(-1,1.5,150)\n",
    "v_vals= np.linspace(-1,1.5,150)\n",
    "z=np.zeros((len(u_vals),len(v_vals)))\n",
    "for i in range(len(u_vals)):\n",
    "    for j in range(len(v_vals)):\n",
    "        z[i,j] = mapFeaturePlot(u_vals[i],v_vals[j],6) @ theta \n",
    "\n",
    "plt.contour(u_vals,v_vals,z.T,0)\n",
    "plt.xlabel(\"Exam 1 score\")\n",
    "plt.ylabel(\"Exam 2 score\")\n",
    "plt.legend(loc=0)"
   ]
  },
  {
   "cell_type": "code",
   "execution_count": 86,
   "id": "acbc58b7",
   "metadata": {},
   "outputs": [],
   "source": [
    "#creating the prediction function\n",
    "def predict_admission(first_score, second_score):\n",
    "    probabilities = {}\n",
    "    x_data = map_feature(np.array([[first_score, second_score]]), 6)\n",
    "    \n",
    "    probabilities['Pass Probability'] = h(x_data, theta)[0][0]\n",
    "    probabilities['Fail Probability'] = 1 - h(x_data, theta)[0][0]\n",
    "    \n",
    "    return probabilities"
   ]
  },
  {
   "cell_type": "code",
   "execution_count": 87,
   "id": "d5c6fafc",
   "metadata": {},
   "outputs": [
    {
     "name": "stdout",
     "output_type": "stream",
     "text": [
      "For a microship with test scores -0.25 and 1.5:  {'Pass Probability': 1.9048956568916075e-09, 'Fail Probability': 0.9999999980951043}\n",
      "For a microship with test scores 0 and 0:  {'Pass Probability': 0.7794326359188095, 'Fail Probability': 0.2205673640811905}\n",
      "For a microship with test scores 0.5 and 0.5:  {'Pass Probability': 0.6617889553419973, 'Fail Probability': 0.33821104465800267}\n",
      "For a microship with test scores -0.25 and 0.25:  {'Pass Probability': 0.7733930666018, 'Fail Probability': 0.22660693339820004}\n",
      "For a microship with test scores 0.25 and 0.25:  {'Pass Probability': 0.8043051598448865, 'Fail Probability': 0.19569484015511351}\n",
      "For a microship with test scores 0.5 and 1:  {'Pass Probability': 0.031096807332469712, 'Fail Probability': 0.9689031926675303}\n",
      "For a microship with test scores 1 and 0.5:  {'Pass Probability': 0.02148616595243834, 'Fail Probability': 0.9785138340475616}\n",
      "For a microship with test scores 1 and 1:  {'Pass Probability': 5.307233717895095e-05, 'Fail Probability': 0.999946927662821}\n"
     ]
    }
   ],
   "source": [
    "#making some predictions and making sure if the model is working right\n",
    "print(\"For a microship with test scores -0.25 and 1.5: \", predict_admission(-0.25,1.5))\n",
    "print(\"For a microship with test scores 0 and 0: \", predict_admission(0, 0))\n",
    "print(\"For a microship with test scores 0.5 and 0.5: \", predict_admission(0.5, 0.5))\n",
    "print(\"For a microship with test scores -0.25 and 0.25: \", predict_admission(-0.25, 0.25))\n",
    "print(\"For a microship with test scores 0.25 and 0.25: \", predict_admission(0.25, 0.25))\n",
    "print(\"For a microship with test scores 0.5 and 1: \", predict_admission(0.5, 1))\n",
    "print(\"For a microship with test scores 1 and 0.5: \", predict_admission(1, 0.5))\n",
    "print(\"For a microship with test scores 1 and 1: \", predict_admission(1, 1))"
   ]
  }
 ],
 "metadata": {
  "kernelspec": {
   "display_name": "Python 3",
   "language": "python",
   "name": "python3"
  },
  "language_info": {
   "codemirror_mode": {
    "name": "ipython",
    "version": 3
   },
   "file_extension": ".py",
   "mimetype": "text/x-python",
   "name": "python",
   "nbconvert_exporter": "python",
   "pygments_lexer": "ipython3",
   "version": "3.8.8"
  }
 },
 "nbformat": 4,
 "nbformat_minor": 5
}
