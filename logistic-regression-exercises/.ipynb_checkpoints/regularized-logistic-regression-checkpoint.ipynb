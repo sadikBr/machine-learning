{
 "cells": [
  {
   "cell_type": "code",
   "execution_count": 303,
   "id": "d4458674",
   "metadata": {},
   "outputs": [],
   "source": [
    "import numpy as np\n",
    "import pandas as pd\n",
    "import matplotlib.pyplot as plt"
   ]
  },
  {
   "cell_type": "code",
   "execution_count": 304,
   "id": "e2718687",
   "metadata": {},
   "outputs": [],
   "source": [
    "#loading the data\n",
    "data = pd.read_csv('ex2data2.txt', names=['First Test', 'Second Test', 'Acceptance'])\n",
    "\n",
    "#splitting the data (splitting the features from the target)\n",
    "x_data = np.array(data.drop(['Acceptance'], axis=1).values)\n",
    "y_data = np.array(data['Acceptance'].values).reshape(len(x_data), 1)\n",
    "\n",
    "#feature scalling of the data\n",
    "def feature_normalize(data):\n",
    "    mean = np.mean(data)\n",
    "    std = np.std(data)\n",
    "    new_data = (data - mean) / std\n",
    "    \n",
    "    return new_data, mean, std\n",
    "\n",
    "x_data, mean, std = feature_normalize(x_data)\n",
    "\n",
    "#formating the data to make it able to plot\n",
    "class_zero = []\n",
    "class_one = []\n",
    "\n",
    "for index, y in enumerate(y_data):\n",
    "    if y[0] == 0:\n",
    "        class_zero.append(x_data[index])\n",
    "    else: class_one.append(x_data[index])\n",
    "        \n",
    "class_one = np.array(class_one)\n",
    "class_zero = np.array(class_zero)"
   ]
  },
  {
   "cell_type": "code",
   "execution_count": 305,
   "id": "81e7980a",
   "metadata": {},
   "outputs": [
    {
     "data": {
      "text/plain": [
       "<matplotlib.legend.Legend at 0x1d30c693b20>"
      ]
     },
     "execution_count": 305,
     "metadata": {},
     "output_type": "execute_result"
    },
    {
     "data": {
      "image/png": "[encoded data removed]",
      "text/plain": [
       "<Figure size 432x288 with 1 Axes>"
      ]
     },
     "metadata": {
      "needs_background": "light"
     },
     "output_type": "display_data"
    }
   ],
   "source": [
    "#ploting the data\n",
    "plt.title('Scatter plot of the two classes in the data')\n",
    "plt.xlabel('First Test')\n",
    "plt.ylabel('Second Test')\n",
    "plt.scatter(class_one[:,0], class_one[:, 1], color='red', marker='+', label='y=1')\n",
    "plt.scatter(class_zero[:,0], class_zero[:, 1], color='green', marker='*', label='y=0')\n",
    "plt.legend()"
   ]
  },
  {
   "cell_type": "code",
   "execution_count": 306,
   "id": "778f131a",
   "metadata": {},
   "outputs": [],
   "source": [
    "#feature mapping\n",
    "def map_feature(x_data, power):\n",
    "    features = np.ones(len(x_data)).reshape(len(x_data), 1)\n",
    "    for n in range(1, power + 1):\n",
    "        for i in range(0, n + 1):\n",
    "            x1 = x_data[:, 0]\n",
    "            x2 = x_data[:, 1]\n",
    "            term = np.array((x1 ** (n - i)) * (x2 ** (i))).reshape(len(x_data), 1)\n",
    "            features = np.hstack((features, term))\n",
    "            \n",
    "    return features"
   ]
  },
  {
   "cell_type": "code",
   "execution_count": 307,
   "id": "e23aa4bd",
   "metadata": {},
   "outputs": [],
   "source": [
    "#generating the new x_data with all the new features\n",
    "x_data = map_feature(x_data, 6)"
   ]
  },
  {
   "cell_type": "code",
   "execution_count": 311,
   "id": "2bcfd812",
   "metadata": {},
   "outputs": [],
   "source": [
    "#creating some utility functions\n",
    "def sigmoid(z):\n",
    "    return (1 / (1 + np.exp(-z)))\n",
    "\n",
    "def h(x_data, theta):\n",
    "    z = np.dot(x_data, theta)\n",
    "    return sigmoid(z)\n",
    "\n",
    "def cost_function(x_data, y_data, theta, Lambda):\n",
    "    first_part = -np.dot(y_data.T, np.log(h(x_data, theta)))\n",
    "    second_part = -np.dot((1 - y_data).T, np.log(1 - h(x_data, theta)))\n",
    "    third_part = Lambda * np.vstack((np.array([0]), theta[1:]))\n",
    "    total_cost = first_part + second_part + third_part\n",
    "    \n",
    "    return total_cost.sum() / len(x_data)\n",
    "\n",
    "def gradient_descent(x_data, y_data, theta, learning_rate):\n",
    "    err = h(x_data, theta) - y_data\n",
    "    dtheta = np.dot(x_data.T, err)\n",
    "    theta = theta - learning_rate * dtheta\n",
    "    \n",
    "    return theta"
   ]
  },
  {
   "cell_type": "code",
   "execution_count": 312,
   "id": "70145005",
   "metadata": {},
   "outputs": [],
   "source": [
    "#creating the training function\n",
    "def train_model(x_data, y_data, theta, learning_rate, nbr_iter, Lambda):\n",
    "    cost = []\n",
    "    for i in range(nbr_iter):\n",
    "        cost.append(cost_function(x_data, y_data, theta, Lambda))\n",
    "        theta = gradient_descent(x_data, y_data, theta, learning_rate)\n",
    "        \n",
    "    return theta, cost"
   ]
  },
  {
   "cell_type": "code",
   "execution_count": 313,
   "id": "dbf3a742",
   "metadata": {},
   "outputs": [
    {
     "ename": "TypeError",
     "evalue": "_vhstack_dispatcher() takes 1 positional argument but 2 were given",
     "output_type": "error",
     "traceback": [
      "\u001b[1;31m---------------------------------------------------------------------------\u001b[0m",
      "\u001b[1;31mTypeError\u001b[0m                                 Traceback (most recent call last)",
      "\u001b[1;32m<ipython-input-313-da4d4ba1b804>\u001b[0m in \u001b[0;36m<module>\u001b[1;34m\u001b[0m\n\u001b[0;32m      5\u001b[0m \u001b[0mnbr_iter\u001b[0m \u001b[1;33m=\u001b[0m \u001b[1;36m1500\u001b[0m\u001b[1;33m\u001b[0m\u001b[1;33m\u001b[0m\u001b[0m\n\u001b[0;32m      6\u001b[0m \u001b[1;33m\u001b[0m\u001b[0m\n\u001b[1;32m----> 7\u001b[1;33m \u001b[0mtheta\u001b[0m\u001b[1;33m,\u001b[0m \u001b[0mcost\u001b[0m \u001b[1;33m=\u001b[0m \u001b[0mtrain_model\u001b[0m\u001b[1;33m(\u001b[0m\u001b[0mx_data\u001b[0m\u001b[1;33m,\u001b[0m \u001b[0my_data\u001b[0m\u001b[1;33m,\u001b[0m \u001b[0minitial_theta\u001b[0m\u001b[1;33m,\u001b[0m \u001b[0mlearning_rate\u001b[0m\u001b[1;33m,\u001b[0m \u001b[0mnbr_iter\u001b[0m\u001b[1;33m,\u001b[0m \u001b[0mLambda\u001b[0m\u001b[1;33m)\u001b[0m\u001b[1;33m\u001b[0m\u001b[1;33m\u001b[0m\u001b[0m\n\u001b[0m",
      "\u001b[1;32m<ipython-input-312-80776a9c628d>\u001b[0m in \u001b[0;36mtrain_model\u001b[1;34m(x_data, y_data, theta, learning_rate, nbr_iter, Lambda)\u001b[0m\n\u001b[0;32m      3\u001b[0m     \u001b[0mcost\u001b[0m \u001b[1;33m=\u001b[0m \u001b[1;33m[\u001b[0m\u001b[1;33m]\u001b[0m\u001b[1;33m\u001b[0m\u001b[1;33m\u001b[0m\u001b[0m\n\u001b[0;32m      4\u001b[0m     \u001b[1;32mfor\u001b[0m \u001b[0mi\u001b[0m \u001b[1;32min\u001b[0m \u001b[0mrange\u001b[0m\u001b[1;33m(\u001b[0m\u001b[0mnbr_iter\u001b[0m\u001b[1;33m)\u001b[0m\u001b[1;33m:\u001b[0m\u001b[1;33m\u001b[0m\u001b[1;33m\u001b[0m\u001b[0m\n\u001b[1;32m----> 5\u001b[1;33m         \u001b[0mcost\u001b[0m\u001b[1;33m.\u001b[0m\u001b[0mappend\u001b[0m\u001b[1;33m(\u001b[0m\u001b[0mcost_function\u001b[0m\u001b[1;33m(\u001b[0m\u001b[0mx_data\u001b[0m\u001b[1;33m,\u001b[0m \u001b[0my_data\u001b[0m\u001b[1;33m,\u001b[0m \u001b[0mtheta\u001b[0m\u001b[1;33m,\u001b[0m \u001b[0mLambda\u001b[0m\u001b[1;33m)\u001b[0m\u001b[1;33m)\u001b[0m\u001b[1;33m\u001b[0m\u001b[1;33m\u001b[0m\u001b[0m\n\u001b[0m\u001b[0;32m      6\u001b[0m         \u001b[0mtheta\u001b[0m \u001b[1;33m=\u001b[0m \u001b[0mgradient_descent\u001b[0m\u001b[1;33m(\u001b[0m\u001b[0mx_data\u001b[0m\u001b[1;33m,\u001b[0m \u001b[0my_data\u001b[0m\u001b[1;33m,\u001b[0m \u001b[0mtheta\u001b[0m\u001b[1;33m,\u001b[0m \u001b[0mlearning_rate\u001b[0m\u001b[1;33m)\u001b[0m\u001b[1;33m\u001b[0m\u001b[1;33m\u001b[0m\u001b[0m\n\u001b[0;32m      7\u001b[0m \u001b[1;33m\u001b[0m\u001b[0m\n",
      "\u001b[1;32m<ipython-input-311-163cd382121f>\u001b[0m in \u001b[0;36mcost_function\u001b[1;34m(x_data, y_data, theta, Lambda)\u001b[0m\n\u001b[0;32m     10\u001b[0m     \u001b[0mfirst_part\u001b[0m \u001b[1;33m=\u001b[0m \u001b[1;33m-\u001b[0m\u001b[0mnp\u001b[0m\u001b[1;33m.\u001b[0m\u001b[0mdot\u001b[0m\u001b[1;33m(\u001b[0m\u001b[0my_data\u001b[0m\u001b[1;33m.\u001b[0m\u001b[0mT\u001b[0m\u001b[1;33m,\u001b[0m \u001b[0mnp\u001b[0m\u001b[1;33m.\u001b[0m\u001b[0mlog\u001b[0m\u001b[1;33m(\u001b[0m\u001b[0mh\u001b[0m\u001b[1;33m(\u001b[0m\u001b[0mx_data\u001b[0m\u001b[1;33m,\u001b[0m \u001b[0mtheta\u001b[0m\u001b[1;33m)\u001b[0m\u001b[1;33m)\u001b[0m\u001b[1;33m)\u001b[0m\u001b[1;33m\u001b[0m\u001b[1;33m\u001b[0m\u001b[0m\n\u001b[0;32m     11\u001b[0m     \u001b[0msecond_part\u001b[0m \u001b[1;33m=\u001b[0m \u001b[1;33m-\u001b[0m\u001b[0mnp\u001b[0m\u001b[1;33m.\u001b[0m\u001b[0mdot\u001b[0m\u001b[1;33m(\u001b[0m\u001b[1;33m(\u001b[0m\u001b[1;36m1\u001b[0m \u001b[1;33m-\u001b[0m \u001b[0my_data\u001b[0m\u001b[1;33m)\u001b[0m\u001b[1;33m.\u001b[0m\u001b[0mT\u001b[0m\u001b[1;33m,\u001b[0m \u001b[0mnp\u001b[0m\u001b[1;33m.\u001b[0m\u001b[0mlog\u001b[0m\u001b[1;33m(\u001b[0m\u001b[1;36m1\u001b[0m \u001b[1;33m-\u001b[0m \u001b[0mh\u001b[0m\u001b[1;33m(\u001b[0m\u001b[0mx_data\u001b[0m\u001b[1;33m,\u001b[0m \u001b[0mtheta\u001b[0m\u001b[1;33m)\u001b[0m\u001b[1;33m)\u001b[0m\u001b[1;33m)\u001b[0m\u001b[1;33m\u001b[0m\u001b[1;33m\u001b[0m\u001b[0m\n\u001b[1;32m---> 12\u001b[1;33m     \u001b[0mthird_part\u001b[0m \u001b[1;33m=\u001b[0m \u001b[0mLambda\u001b[0m \u001b[1;33m*\u001b[0m \u001b[0mnp\u001b[0m\u001b[1;33m.\u001b[0m\u001b[0mvstack\u001b[0m\u001b[1;33m(\u001b[0m\u001b[0mnp\u001b[0m\u001b[1;33m.\u001b[0m\u001b[0marray\u001b[0m\u001b[1;33m(\u001b[0m\u001b[1;33m[\u001b[0m\u001b[1;36m0\u001b[0m\u001b[1;33m]\u001b[0m\u001b[1;33m)\u001b[0m\u001b[1;33m,\u001b[0m \u001b[0mtheta\u001b[0m\u001b[1;33m[\u001b[0m\u001b[1;36m1\u001b[0m\u001b[1;33m:\u001b[0m\u001b[1;33m]\u001b[0m\u001b[1;33m)\u001b[0m\u001b[1;33m\u001b[0m\u001b[1;33m\u001b[0m\u001b[0m\n\u001b[0m\u001b[0;32m     13\u001b[0m     \u001b[0mtotal_cost\u001b[0m \u001b[1;33m=\u001b[0m \u001b[0mfirst_part\u001b[0m \u001b[1;33m+\u001b[0m \u001b[0msecond_part\u001b[0m \u001b[1;33m+\u001b[0m \u001b[0mthird_part\u001b[0m\u001b[1;33m\u001b[0m\u001b[1;33m\u001b[0m\u001b[0m\n\u001b[0;32m     14\u001b[0m \u001b[1;33m\u001b[0m\u001b[0m\n",
      "\u001b[1;32m<__array_function__ internals>\u001b[0m in \u001b[0;36mvstack\u001b[1;34m(*args, **kwargs)\u001b[0m\n",
      "\u001b[1;31mTypeError\u001b[0m: _vhstack_dispatcher() takes 1 positional argument but 2 were given"
     ]
    }
   ],
   "source": [
    "#training the model\n",
    "initial_theta = np.zeros([28, 1])\n",
    "Lambda = 10\n",
    "learning_rate = 0.01\n",
    "nbr_iter = 1500\n",
    "\n",
    "theta, cost = train_model(x_data, y_data, initial_theta, learning_rate, nbr_iter, Lambda)"
   ]
  },
  {
   "cell_type": "code",
   "execution_count": null,
   "id": "826f1d15",
   "metadata": {},
   "outputs": [],
   "source": [
    "#plot the model"
   ]
  },
  {
   "cell_type": "code",
   "execution_count": null,
   "id": "ff33e372",
   "metadata": {},
   "outputs": [],
   "source": [
    "#creating the prediction function\n",
    "def predict_admission(first_score, second_score):\n",
    "    return 0"
   ]
  },
  {
   "cell_type": "code",
   "execution_count": null,
   "id": "d5c6fafc",
   "metadata": {},
   "outputs": [],
   "source": [
    "#make some prediction and make sure the model is working correctly\n",
    "predict_admission(56, 87)"
   ]
  }
 ],
 "metadata": {
  "kernelspec": {
   "display_name": "Python 3",
   "language": "python",
   "name": "python3"
  },
  "language_info": {
   "codemirror_mode": {
    "name": "ipython",
    "version": 3
   },
   "file_extension": ".py",
   "mimetype": "text/x-python",
   "name": "python",
   "nbconvert_exporter": "python",
   "pygments_lexer": "ipython3",
   "version": "3.8.8"
  }
 },
 "nbformat": 4,
 "nbformat_minor": 5
}
